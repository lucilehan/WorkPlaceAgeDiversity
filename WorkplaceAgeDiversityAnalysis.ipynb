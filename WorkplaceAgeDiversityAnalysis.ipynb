{
  "nbformat": 4,
  "nbformat_minor": 0,
  "metadata": {
    "kernelspec": {
      "display_name": "Python 3",
      "language": "python",
      "name": "python3"
    },
    "language_info": {
      "codemirror_mode": {
        "name": "ipython",
        "version": 3
      },
      "file_extension": ".py",
      "mimetype": "text/x-python",
      "name": "python",
      "nbconvert_exporter": "python",
      "pygments_lexer": "ipython3",
      "version": "3.7.0"
    },
    "colab": {
      "name": "2 | Workplace Age Diversity Analysis.ipynb",
      "provenance": [],
      "collapsed_sections": [],
      "include_colab_link": true
    }
  },
  "cells": [
    {
      "cell_type": "markdown",
      "metadata": {
        "id": "view-in-github",
        "colab_type": "text"
      },
      "source": [
        "<a href=\"https://colab.research.google.com/github/lucilehan/WorkPlaceAgeDiversity/blob/main/Workplace_Age_Diversity_Analysis.ipynb\" target=\"_parent\"><img src=\"https://colab.research.google.com/assets/colab-badge.svg\" alt=\"Open In Colab\"/></a>"
      ]
    },
    {
      "cell_type": "markdown",
      "metadata": {
        "id": "kdhDRvol3vbd"
      },
      "source": [
        "# Workplace Age Diversity"
      ]
    },
    {
      "cell_type": "markdown",
      "metadata": {
        "id": "pqogRhNTNegl"
      },
      "source": [
        "### Introduction\n",
        "\n",
        "Attracting, recruiting, and selecting talent to meet organizational staffing needs are essential to HR. To create and maintain a workforce that meets organizational goals, HR professionals identify the best and most efficient sources of talent. They use a variety of methods, from employer branding to social media, to recruit or attract that talent to the organization. \n",
        "\n",
        "In this notebook, I uncover the best and worst source of talent acquisition for workplace Age Diversity. I also try to see if there is a meaningful statistical difference in the means of job performance scores between commonly represented and under-represented age groups. Although the data set used here is synthetic, with similar information available, the following analysis can be repeated and applied to companies looking to improve their age diversity profiles. \n",
        "\n",
        "\n"
      ]
    },
    {
      "cell_type": "markdown",
      "metadata": {
        "id": "BSsFoq1k8-Ct"
      },
      "source": [
        "### Import Module"
      ]
    },
    {
      "cell_type": "code",
      "metadata": {
        "id": "jpHu1YrFSvxF",
        "colab": {
          "base_uri": "https://localhost:8080/"
        },
        "outputId": "90a7436d-131e-4fe5-eecd-1cb207af5b1d"
      },
      "source": [
        "# Mount Google Drive with the raw data set to the Colab environment\n",
        "from google.colab import drive\n",
        "drive.mount('/content/gdrive')"
      ],
      "execution_count": null,
      "outputs": [
        {
          "output_type": "stream",
          "text": [
            "Drive already mounted at /content/gdrive; to attempt to forcibly remount, call drive.mount(\"/content/gdrive\", force_remount=True).\n"
          ],
          "name": "stdout"
        }
      ]
    },
    {
      "cell_type": "code",
      "metadata": {
        "id": "tpOxp_dI4wsd"
      },
      "source": [
        "# Import pandas and read in otheur GDrive-mounted csv\n",
        "import pandas as pd\n",
        "df = pd.read_csv('/content/gdrive/My Drive/Colab Datasets/HRDataset_v14.csv')"
      ],
      "execution_count": null,
      "outputs": []
    },
    {
      "cell_type": "code",
      "metadata": {
        "id": "VTnWFvHi-84b"
      },
      "source": [
        "# Import rest of the modules\n",
        "import numpy as np\n",
        "import matplotlib.pyplot as plt\n",
        "import seaborn as sns\n",
        "from scipy import stats"
      ],
      "execution_count": null,
      "outputs": []
    },
    {
      "cell_type": "markdown",
      "metadata": {
        "id": "xcfQdNRCP5sP"
      },
      "source": [
        "### Data Exploration"
      ]
    },
    {
      "cell_type": "code",
      "metadata": {
        "colab": {
          "base_uri": "https://localhost:8080/"
        },
        "id": "3A2BcbsAqVqA",
        "outputId": "e17f98b9-3f78-4618-8dff-cc33db643bb6"
      },
      "source": [
        "# Return a tuple representing the dimensionality of the DataFrame\n",
        "df.shape"
      ],
      "execution_count": null,
      "outputs": [
        {
          "output_type": "execute_result",
          "data": {
            "text/plain": [
              "(311, 36)"
            ]
          },
          "metadata": {
            "tags": []
          },
          "execution_count": 7
        }
      ]
    },
    {
      "cell_type": "markdown",
      "metadata": {
        "id": "6zEZ4D1Ok-MM"
      },
      "source": [
        "This set covers `311` entries of HR data with 36 features. "
      ]
    },
    {
      "cell_type": "code",
      "metadata": {
        "colab": {
          "base_uri": "https://localhost:8080/"
        },
        "id": "anTB0F3tTNuo",
        "outputId": "89a05e9b-d018-46cc-f5b3-ac6efa9fe726"
      },
      "source": [
        "# Return a concise summary of the DataFrame\n",
        "df.info()"
      ],
      "execution_count": null,
      "outputs": [
        {
          "output_type": "stream",
          "text": [
            "<class 'pandas.core.frame.DataFrame'>\n",
            "RangeIndex: 311 entries, 0 to 310\n",
            "Data columns (total 36 columns):\n",
            " #   Column                      Non-Null Count  Dtype  \n",
            "---  ------                      --------------  -----  \n",
            " 0   Employee_Name               311 non-null    object \n",
            " 1   EmpID                       311 non-null    int64  \n",
            " 2   MarriedID                   311 non-null    int64  \n",
            " 3   MaritalStatusID             311 non-null    int64  \n",
            " 4   GenderID                    311 non-null    int64  \n",
            " 5   EmpStatusID                 311 non-null    int64  \n",
            " 6   DeptID                      311 non-null    int64  \n",
            " 7   PerfScoreID                 311 non-null    int64  \n",
            " 8   FromDiversityJobFairID      311 non-null    int64  \n",
            " 9   Salary                      311 non-null    int64  \n",
            " 10  Termd                       311 non-null    int64  \n",
            " 11  PositionID                  311 non-null    int64  \n",
            " 12  Position                    311 non-null    object \n",
            " 13  State                       311 non-null    object \n",
            " 14  Zip                         311 non-null    int64  \n",
            " 15  DOB                         311 non-null    object \n",
            " 16  Sex                         311 non-null    object \n",
            " 17  MaritalDesc                 311 non-null    object \n",
            " 18  CitizenDesc                 311 non-null    object \n",
            " 19  HispanicLatino              311 non-null    object \n",
            " 20  RaceDesc                    311 non-null    object \n",
            " 21  DateofHire                  311 non-null    object \n",
            " 22  DateofTermination           104 non-null    object \n",
            " 23  TermReason                  311 non-null    object \n",
            " 24  EmploymentStatus            311 non-null    object \n",
            " 25  Department                  311 non-null    object \n",
            " 26  ManagerName                 311 non-null    object \n",
            " 27  ManagerID                   303 non-null    float64\n",
            " 28  RecruitmentSource           311 non-null    object \n",
            " 29  PerformanceScore            311 non-null    object \n",
            " 30  EngagementSurvey            311 non-null    float64\n",
            " 31  EmpSatisfaction             311 non-null    int64  \n",
            " 32  SpecialProjectsCount        311 non-null    int64  \n",
            " 33  LastPerformanceReview_Date  311 non-null    object \n",
            " 34  DaysLateLast30              311 non-null    int64  \n",
            " 35  Absences                    311 non-null    int64  \n",
            "dtypes: float64(2), int64(16), object(18)\n",
            "memory usage: 87.6+ KB\n"
          ],
          "name": "stdout"
        }
      ]
    },
    {
      "cell_type": "markdown",
      "metadata": {
        "id": "c6M9_B6u1-eW"
      },
      "source": [
        "We can see that there are a fair amount of both the categorical and the quantitative types of data in this DataFrame. Most importantly, there are no null values except in **DateofTermination** and **ManagerID**: every other column has `311`, except for **DateofTermination** and **ManagerID**, which has `104` and `303` values, respectively. "
      ]
    },
    {
      "cell_type": "markdown",
      "metadata": {
        "id": "hw_pmd0IUWMr"
      },
      "source": [
        "### Purpose\n",
        "\n",
        "To ensure the continuous improvement of the organization’s approach to talent acquisition, HR professionals regularly evaluate it to identify areas that can be improved. Let us assume that during the process, they discovered a recently growing demand for a diversified workforce in terms of age. For instance, there could have been external demand from the stakeholders that the organization appeal to a much broader—old and young—customer demographic. First, we begin by analyzing the current diversity profile.\n",
        "\n",
        "\n"
      ]
    },
    {
      "cell_type": "code",
      "metadata": {
        "id": "wfmxCouz3kGw"
      },
      "source": [
        "# Convert 'DOB' to datetime format, with a bit of chaining to keep just the date\n",
        "from dateutil.relativedelta import relativedelta\n",
        "df['DOB'] = pd.to_datetime(df['DOB']).dt.date.astype('datetime64')\n",
        "\n",
        "# No employees were born after year 2000, so DOBs like 2068 should have 100 years removed:\n",
        "df.loc[df.DOB.dt.year > 2000, 'DOB'] -= pd.DateOffset(years=100)\n",
        "\n",
        "# Create new column 'Age'\n",
        "df['Age'] = pd.Series(dtype='int')\n",
        "for ind, date in df.DOB.iteritems():\n",
        "    df.loc[ind, 'Age'] = relativedelta(\n",
        "        pd.to_datetime('today'), date).years\n",
        "df.Age = df.Age.astype('int64')\n"
      ],
      "execution_count": null,
      "outputs": []
    },
    {
      "cell_type": "markdown",
      "metadata": {
        "id": "MpyGZoSVSCL6"
      },
      "source": [
        "Next, we look at how age is distributed throughout the company."
      ]
    },
    {
      "cell_type": "code",
      "metadata": {
        "colab": {
          "base_uri": "https://localhost:8080/"
        },
        "id": "VuFxJLeoSURv",
        "outputId": "ac9f049f-0d75-497a-f89e-7afebd6997b7"
      },
      "source": [
        "# Return a summary statistics\n",
        "df['Age'].apply(['min', 'median', 'max'])"
      ],
      "execution_count": null,
      "outputs": [
        {
          "output_type": "execute_result",
          "data": {
            "text/plain": [
              "min       28.0\n",
              "median    40.0\n",
              "max       70.0\n",
              "Name: Age, dtype: float64"
            ]
          },
          "metadata": {
            "tags": []
          },
          "execution_count": 10
        }
      ]
    },
    {
      "cell_type": "markdown",
      "metadata": {
        "id": "2jh1uTLtM6Ye"
      },
      "source": [
        "The youngest employee in the company is `28` years old, the oldest, `69`. \n",
        "The company age diversity profile is comprised of five different age buckets: `20 - 30`, `30 - 40`, `40 - 50`, `50 - 60`, `60 - 70`"
      ]
    },
    {
      "cell_type": "code",
      "metadata": {
        "colab": {
          "base_uri": "https://localhost:8080/"
        },
        "id": "croLjC6tQXsG",
        "outputId": "7d888c9b-ad57-42bc-8cab-092443e8764c"
      },
      "source": [
        "# Return count of EmpID in each age bucket\n",
        "\n",
        "agegroups= pd.cut(df.Age, [20,30,40,50,60,70])\n",
        "agegroups.name = 'Age group'\n",
        "agegroups.value_counts(normalize=True) *100\n",
        "\n",
        "df.groupby([agegroups])['EmpID'].count()"
      ],
      "execution_count": null,
      "outputs": [
        {
          "output_type": "execute_result",
          "data": {
            "text/plain": [
              "Age group\n",
              "(20, 30]     11\n",
              "(30, 40]    153\n",
              "(40, 50]     98\n",
              "(50, 60]     36\n",
              "(60, 70]     13\n",
              "Name: EmpID, dtype: int64"
            ]
          },
          "metadata": {
            "tags": []
          },
          "execution_count": 11
        }
      ]
    },
    {
      "cell_type": "markdown",
      "metadata": {
        "id": "gfuo3CFWbVYH"
      },
      "source": [
        "We see that the employees falling into the `30 - 40` and `40 - 50` age groups make up roughly 80% of total employees. On the contrary, less than 8% of total employees fall into `20 - 30` and `60 - 70` age groups combined. "
      ]
    },
    {
      "cell_type": "markdown",
      "metadata": {
        "id": "BsZgQmaKQ3RB"
      },
      "source": [
        "Here is a visual representation of this age distribution:"
      ]
    },
    {
      "cell_type": "code",
      "metadata": {
        "colab": {
          "base_uri": "https://localhost:8080/",
          "height": 402
        },
        "id": "-11kssWdOUPX",
        "outputId": "6a5d1b9d-9211-4581-8c50-07d9a6e7fab6"
      },
      "source": [
        "# Visualize company age distribution \n",
        "ax = sns.displot(df['Age'], kde=False).set(title='Company Age Distribution')\n",
        "\n",
        "fig = plt.figure(figsize=(6, 6)), sns.set_style('whitegrid')\n"
      ],
      "execution_count": null,
      "outputs": [
        {
          "output_type": "display_data",
          "data": {
            "image/png": "[encoded data removed]",
            "text/plain": [
              "<Figure size 360x360 with 1 Axes>"
            ]
          },
          "metadata": {
            "tags": [],
            "needs_background": "light"
          }
        },
        {
          "output_type": "display_data",
          "data": {
            "text/plain": [
              "<Figure size 432x432 with 0 Axes>"
            ]
          },
          "metadata": {
            "tags": []
          }
        }
      ]
    },
    {
      "cell_type": "markdown",
      "metadata": {
        "id": "zkIGigPrc-HA"
      },
      "source": [
        "It's now clear to us that the age distribution is heavily skewed to the left, and that there is room for systematic improvement. We must examine how age diversity is influenced by our current recruiting practices. Which recruitment sources are we currently sourcing and hiring from? "
      ]
    },
    {
      "cell_type": "code",
      "metadata": {
        "colab": {
          "base_uri": "https://localhost:8080/",
          "height": 421
        },
        "id": "65FBMFWuXAly",
        "outputId": "cc420eb5-b0fa-4897-fe67-663468f2e347"
      },
      "source": [
        "# Current sources of recruitment\n",
        "source_counts = df['RecruitmentSource'].value_counts()\n",
        "fig = plt.figure(figsize=(6, 6)), sns.set_style('whitegrid')\n",
        "\n",
        "# Ordering for better visualization\n",
        "ordered_sc = df.groupby('RecruitmentSource').count().reset_index().sort_values('EmpID', ascending=False)\n",
        "ax = sns.barplot(data=ordered_sc, y='RecruitmentSource', x='EmpID', palette='Set2')\n",
        "ax.set_xlabel('Hired Employees'), ax.set_ylabel('Recruitment Source')\n",
        "ax.set_title('Under-represented employees hired by recruitment source')"
      ],
      "execution_count": null,
      "outputs": [
        {
          "output_type": "execute_result",
          "data": {
            "text/plain": [
              "Text(0.5, 1.0, 'Under-represented employees hired by recruitment source')"
            ]
          },
          "metadata": {
            "tags": []
          },
          "execution_count": 13
        },
        {
          "output_type": "display_data",
          "data": {
            "image/png": "[encoded data removed]",
            "text/plain": [
              "<Figure size 432x432 with 1 Axes>"
            ]
          },
          "metadata": {
            "tags": []
          }
        }
      ]
    },
    {
      "cell_type": "markdown",
      "metadata": {
        "id": "2n6zSSWmetix"
      },
      "source": [
        "We see that `Indeed`, `LinkedIn`, and `Google Search` are the top 3 sources of recruitment for the company in terms of headcount. The three social networking sites source the highest volume of employees in the company.\n",
        "`Company Website`, `Other`, and `On-line Web applications` are the bottom 3. Our next question is: Besides the headcounts, **which recruitment source hires the highest ratio of under-represented employees?**"
      ]
    },
    {
      "cell_type": "code",
      "metadata": {
        "colab": {
          "base_uri": "https://localhost:8080/",
          "height": 359
        },
        "id": "jk4PJbvyko0v",
        "outputId": "4d266851-c883-4fc6-f663-6607b467c918"
      },
      "source": [
        "# In-depth overview of how Age is distributed across different recruitmentt sources\n",
        "df.groupby(['RecruitmentSource'])['Age'].describe()"
      ],
      "execution_count": null,
      "outputs": [
        {
          "output_type": "execute_result",
          "data": {
            "text/html": [
              "<div>\n",
              "<style scoped>\n",
              "    .dataframe tbody tr th:only-of-type {\n",
              "        vertical-align: middle;\n",
              "    }\n",
              "\n",
              "    .dataframe tbody tr th {\n",
              "        vertical-align: top;\n",
              "    }\n",
              "\n",
              "    .dataframe thead th {\n",
              "        text-align: right;\n",
              "    }\n",
              "</style>\n",
              "<table border=\"1\" class=\"dataframe\">\n",
              "  <thead>\n",
              "    <tr style=\"text-align: right;\">\n",
              "      <th></th>\n",
              "      <th>count</th>\n",
              "      <th>mean</th>\n",
              "      <th>std</th>\n",
              "      <th>min</th>\n",
              "      <th>25%</th>\n",
              "      <th>50%</th>\n",
              "      <th>75%</th>\n",
              "      <th>max</th>\n",
              "    </tr>\n",
              "    <tr>\n",
              "      <th>RecruitmentSource</th>\n",
              "      <th></th>\n",
              "      <th></th>\n",
              "      <th></th>\n",
              "      <th></th>\n",
              "      <th></th>\n",
              "      <th></th>\n",
              "      <th></th>\n",
              "      <th></th>\n",
              "    </tr>\n",
              "  </thead>\n",
              "  <tbody>\n",
              "    <tr>\n",
              "      <th>CareerBuilder</th>\n",
              "      <td>23.0</td>\n",
              "      <td>42.739130</td>\n",
              "      <td>11.095525</td>\n",
              "      <td>30.0</td>\n",
              "      <td>34.0</td>\n",
              "      <td>41.0</td>\n",
              "      <td>47.0</td>\n",
              "      <td>68.0</td>\n",
              "    </tr>\n",
              "    <tr>\n",
              "      <th>Diversity Job Fair</th>\n",
              "      <td>29.0</td>\n",
              "      <td>44.551724</td>\n",
              "      <td>9.171330</td>\n",
              "      <td>31.0</td>\n",
              "      <td>36.0</td>\n",
              "      <td>46.0</td>\n",
              "      <td>51.0</td>\n",
              "      <td>65.0</td>\n",
              "    </tr>\n",
              "    <tr>\n",
              "      <th>Employee Referral</th>\n",
              "      <td>31.0</td>\n",
              "      <td>43.193548</td>\n",
              "      <td>7.560509</td>\n",
              "      <td>32.0</td>\n",
              "      <td>37.0</td>\n",
              "      <td>41.0</td>\n",
              "      <td>50.0</td>\n",
              "      <td>59.0</td>\n",
              "    </tr>\n",
              "    <tr>\n",
              "      <th>Google Search</th>\n",
              "      <td>49.0</td>\n",
              "      <td>42.040816</td>\n",
              "      <td>10.222441</td>\n",
              "      <td>29.0</td>\n",
              "      <td>36.0</td>\n",
              "      <td>39.0</td>\n",
              "      <td>47.0</td>\n",
              "      <td>70.0</td>\n",
              "    </tr>\n",
              "    <tr>\n",
              "      <th>Indeed</th>\n",
              "      <td>87.0</td>\n",
              "      <td>40.471264</td>\n",
              "      <td>8.546506</td>\n",
              "      <td>28.0</td>\n",
              "      <td>33.0</td>\n",
              "      <td>39.0</td>\n",
              "      <td>47.0</td>\n",
              "      <td>66.0</td>\n",
              "    </tr>\n",
              "    <tr>\n",
              "      <th>LinkedIn</th>\n",
              "      <td>76.0</td>\n",
              "      <td>40.355263</td>\n",
              "      <td>8.248966</td>\n",
              "      <td>28.0</td>\n",
              "      <td>34.0</td>\n",
              "      <td>37.5</td>\n",
              "      <td>44.0</td>\n",
              "      <td>69.0</td>\n",
              "    </tr>\n",
              "    <tr>\n",
              "      <th>On-line Web application</th>\n",
              "      <td>1.0</td>\n",
              "      <td>43.000000</td>\n",
              "      <td>NaN</td>\n",
              "      <td>43.0</td>\n",
              "      <td>43.0</td>\n",
              "      <td>43.0</td>\n",
              "      <td>43.0</td>\n",
              "      <td>43.0</td>\n",
              "    </tr>\n",
              "    <tr>\n",
              "      <th>Other</th>\n",
              "      <td>2.0</td>\n",
              "      <td>43.000000</td>\n",
              "      <td>2.828427</td>\n",
              "      <td>41.0</td>\n",
              "      <td>42.0</td>\n",
              "      <td>43.0</td>\n",
              "      <td>44.0</td>\n",
              "      <td>45.0</td>\n",
              "    </tr>\n",
              "    <tr>\n",
              "      <th>Website</th>\n",
              "      <td>13.0</td>\n",
              "      <td>38.538462</td>\n",
              "      <td>7.378069</td>\n",
              "      <td>31.0</td>\n",
              "      <td>32.0</td>\n",
              "      <td>36.0</td>\n",
              "      <td>45.0</td>\n",
              "      <td>55.0</td>\n",
              "    </tr>\n",
              "  </tbody>\n",
              "</table>\n",
              "</div>"
            ],
            "text/plain": [
              "                         count       mean        std  ...   50%   75%   max\n",
              "RecruitmentSource                                     ...                  \n",
              "CareerBuilder             23.0  42.739130  11.095525  ...  41.0  47.0  68.0\n",
              "Diversity Job Fair        29.0  44.551724   9.171330  ...  46.0  51.0  65.0\n",
              "Employee Referral         31.0  43.193548   7.560509  ...  41.0  50.0  59.0\n",
              "Google Search             49.0  42.040816  10.222441  ...  39.0  47.0  70.0\n",
              "Indeed                    87.0  40.471264   8.546506  ...  39.0  47.0  66.0\n",
              "LinkedIn                  76.0  40.355263   8.248966  ...  37.5  44.0  69.0\n",
              "On-line Web application    1.0  43.000000        NaN  ...  43.0  43.0  43.0\n",
              "Other                      2.0  43.000000   2.828427  ...  43.0  44.0  45.0\n",
              "Website                   13.0  38.538462   7.378069  ...  36.0  45.0  55.0\n",
              "\n",
              "[9 rows x 8 columns]"
            ]
          },
          "metadata": {
            "tags": []
          },
          "execution_count": 14
        }
      ]
    },
    {
      "cell_type": "markdown",
      "metadata": {
        "id": "UmUDwQXN_sKy"
      },
      "source": [
        "We divide the company into two age groups--**Represented** (age 30-50) and **Under-represented** (all else). "
      ]
    },
    {
      "cell_type": "code",
      "metadata": {
        "id": "3vOrGZcRA_lB"
      },
      "source": [
        "# Divide all employees into two groups --Represented vs. Under-represented\n",
        "\n",
        "bins= [30,51] \n",
        "labels = ['Represented'] \n",
        "df['AgeGroup'] = pd.cut(df['Age'], bins=bins, labels=labels, right=False)\n",
        "\n",
        "df['AgeGroup'] = df['AgeGroup'].cat.add_categories('Under-represented') .fillna('Under-represented')\n"
      ],
      "execution_count": null,
      "outputs": []
    },
    {
      "cell_type": "markdown",
      "metadata": {
        "id": "OcqbgMnJu1qT"
      },
      "source": [
        "Which recruitment source hires the highest ratio of under-represented candidates? In other words, which of the nine recruitment sources should the company focus its talent sourcing from if it were to improve its age diversity profile? Which source should the company avoid?"
      ]
    },
    {
      "cell_type": "code",
      "metadata": {
        "colab": {
          "base_uri": "https://localhost:8080/",
          "height": 328
        },
        "id": "2qgGzISqoo8Z",
        "outputId": "9a0f75c4-d4d0-4da3-e692-51c338701c71"
      },
      "source": [
        "df['Under-represented'] = (df['AgeGroup'] != 'Represented')\n",
        "ordered_nw = df.groupby('RecruitmentSource')['Under-represented'].mean().reset_index().sort_values('Under-represented', ascending=False)\n",
        "ordered_nw"
      ],
      "execution_count": null,
      "outputs": [
        {
          "output_type": "execute_result",
          "data": {
            "text/html": [
              "<div>\n",
              "<style scoped>\n",
              "    .dataframe tbody tr th:only-of-type {\n",
              "        vertical-align: middle;\n",
              "    }\n",
              "\n",
              "    .dataframe tbody tr th {\n",
              "        vertical-align: top;\n",
              "    }\n",
              "\n",
              "    .dataframe thead th {\n",
              "        text-align: right;\n",
              "    }\n",
              "</style>\n",
              "<table border=\"1\" class=\"dataframe\">\n",
              "  <thead>\n",
              "    <tr style=\"text-align: right;\">\n",
              "      <th></th>\n",
              "      <th>RecruitmentSource</th>\n",
              "      <th>Under-represented</th>\n",
              "    </tr>\n",
              "  </thead>\n",
              "  <tbody>\n",
              "    <tr>\n",
              "      <th>1</th>\n",
              "      <td>Diversity Job Fair</td>\n",
              "      <td>0.344828</td>\n",
              "    </tr>\n",
              "    <tr>\n",
              "      <th>2</th>\n",
              "      <td>Employee Referral</td>\n",
              "      <td>0.225806</td>\n",
              "    </tr>\n",
              "    <tr>\n",
              "      <th>0</th>\n",
              "      <td>CareerBuilder</td>\n",
              "      <td>0.173913</td>\n",
              "    </tr>\n",
              "    <tr>\n",
              "      <th>4</th>\n",
              "      <td>Indeed</td>\n",
              "      <td>0.172414</td>\n",
              "    </tr>\n",
              "    <tr>\n",
              "      <th>3</th>\n",
              "      <td>Google Search</td>\n",
              "      <td>0.163265</td>\n",
              "    </tr>\n",
              "    <tr>\n",
              "      <th>5</th>\n",
              "      <td>LinkedIn</td>\n",
              "      <td>0.131579</td>\n",
              "    </tr>\n",
              "    <tr>\n",
              "      <th>8</th>\n",
              "      <td>Website</td>\n",
              "      <td>0.076923</td>\n",
              "    </tr>\n",
              "    <tr>\n",
              "      <th>6</th>\n",
              "      <td>On-line Web application</td>\n",
              "      <td>0.000000</td>\n",
              "    </tr>\n",
              "    <tr>\n",
              "      <th>7</th>\n",
              "      <td>Other</td>\n",
              "      <td>0.000000</td>\n",
              "    </tr>\n",
              "  </tbody>\n",
              "</table>\n",
              "</div>"
            ],
            "text/plain": [
              "         RecruitmentSource  Under-represented\n",
              "1       Diversity Job Fair           0.344828\n",
              "2        Employee Referral           0.225806\n",
              "0            CareerBuilder           0.173913\n",
              "4                   Indeed           0.172414\n",
              "3            Google Search           0.163265\n",
              "5                 LinkedIn           0.131579\n",
              "8                  Website           0.076923\n",
              "6  On-line Web application           0.000000\n",
              "7                    Other           0.000000"
            ]
          },
          "metadata": {
            "tags": []
          },
          "execution_count": 16
        }
      ]
    },
    {
      "cell_type": "markdown",
      "metadata": {
        "id": "QWJw_PBAyMdp"
      },
      "source": [
        "Right off the bat, we see that both On-line Web applications and Other recruitment sources yield a `0.00` Under-represented-to-Represented ratio. The two sources are not efficient in increasing Workplace Age Diversity."
      ]
    },
    {
      "cell_type": "code",
      "metadata": {
        "colab": {
          "base_uri": "https://localhost:8080/",
          "height": 421
        },
        "id": "hXJXyaTVo2Is",
        "outputId": "f549c2f8-f727-44e2-98f5-0741c72acc21"
      },
      "source": [
        "df['Under-represented'] = (df['AgeGroup'] != 'Represented')\n",
        "fig = plt.figure(figsize=(6, 6)), sns.set_style('whitegrid')\n",
        "\n",
        "# Ordering for better visualization\n",
        "ordered_nw = df.groupby('RecruitmentSource')['Under-represented'].mean().reset_index().sort_values('Under-represented', ascending=False)\n",
        "ax = sns.barplot(data=ordered_nw, y='RecruitmentSource', x='Under-represented', palette='Set2')\n",
        "ax.set_xlabel('Under-represented proportion'), ax.set_ylabel('Recruitment Source')\n",
        "ax.set_title('Under-represented employees by recruitment source')"
      ],
      "execution_count": null,
      "outputs": [
        {
          "output_type": "execute_result",
          "data": {
            "text/plain": [
              "Text(0.5, 1.0, 'Under-represented employees by recruitment source')"
            ]
          },
          "metadata": {
            "tags": []
          },
          "execution_count": 17
        },
        {
          "output_type": "display_data",
          "data": {
            "image/png": "[encoded data removed]",
            "text/plain": [
              "<Figure size 432x432 with 1 Axes>"
            ]
          },
          "metadata": {
            "tags": []
          }
        }
      ]
    },
    {
      "cell_type": "markdown",
      "metadata": {
        "id": "Dwm4NqyuA5w-"
      },
      "source": [
        "We see thaat the `Diversity Job Fair` hires the highest Under-represented-to-Represented employee ratio than any other source at `0.34`. Although social-networking sites are great for increasing headcount, `Diversity Job Fair` and `Employee Referral` proved to be better sourced in making the company more diverse. They should be encouraged and expanded to improve the company's age diversity profile. Given none of the available sources yield an under-represented ratio of `0.35`, the organization seems far behind when it comes to age diversity, and no recruitment source is distinctly efficient. Much more robust programs for promoting Workplace Age Diversity is needed."
      ]
    },
    {
      "cell_type": "markdown",
      "metadata": {
        "id": "r9TXJF3H6Hnq"
      },
      "source": [
        "### Hypothesis Testing\n",
        "\n",
        "We were able to boil down to a couple of recruitment sources that contribute to more inclusive age representations, but why should the company care? One might argue that the Represented age group is the most qualified in terms of their work abilities, thus dismissing the need to re-evaluate current recruiting practices.  \n",
        "\n",
        "Similar negative ageist attitudes are widely held across societies and not confined to one social or ethnic group. These assume an inevitable decline in work abilities from both young and older workers, thus justify using age as a “proxy” for inferior job performance. I wanted to use my data to prove these assumptions are invalid. There are wide variations in the rate and amount of decline—if any—in different types of workers and jobs. Age alone should prove to be a poor proxy for these deficiencies. Some workers' abilities improve with age as their experience, skills, and knowledge increase. \n",
        "\n"
      ]
    },
    {
      "cell_type": "code",
      "metadata": {
        "colab": {
          "base_uri": "https://localhost:8080/"
        },
        "id": "7UeGker70_NE",
        "outputId": "8b475452-23e0-4c5f-e831-d7b8e614d020"
      },
      "source": [
        "df_rep = df.iloc[(df['AgeGroup'] == 'Represented').values]\n",
        "df_rep.info()"
      ],
      "execution_count": null,
      "outputs": [
        {
          "output_type": "stream",
          "text": [
            "<class 'pandas.core.frame.DataFrame'>\n",
            "Int64Index: 256 entries, 0 to 310\n",
            "Data columns (total 39 columns):\n",
            " #   Column                      Non-Null Count  Dtype         \n",
            "---  ------                      --------------  -----         \n",
            " 0   Employee_Name               256 non-null    object        \n",
            " 1   EmpID                       256 non-null    int64         \n",
            " 2   MarriedID                   256 non-null    int64         \n",
            " 3   MaritalStatusID             256 non-null    int64         \n",
            " 4   GenderID                    256 non-null    int64         \n",
            " 5   EmpStatusID                 256 non-null    int64         \n",
            " 6   DeptID                      256 non-null    int64         \n",
            " 7   PerfScoreID                 256 non-null    int64         \n",
            " 8   FromDiversityJobFairID      256 non-null    int64         \n",
            " 9   Salary                      256 non-null    int64         \n",
            " 10  Termd                       256 non-null    int64         \n",
            " 11  PositionID                  256 non-null    int64         \n",
            " 12  Position                    256 non-null    object        \n",
            " 13  State                       256 non-null    object        \n",
            " 14  Zip                         256 non-null    int64         \n",
            " 15  DOB                         256 non-null    datetime64[ns]\n",
            " 16  Sex                         256 non-null    object        \n",
            " 17  MaritalDesc                 256 non-null    object        \n",
            " 18  CitizenDesc                 256 non-null    object        \n",
            " 19  HispanicLatino              256 non-null    object        \n",
            " 20  RaceDesc                    256 non-null    object        \n",
            " 21  DateofHire                  256 non-null    object        \n",
            " 22  DateofTermination           85 non-null     object        \n",
            " 23  TermReason                  256 non-null    object        \n",
            " 24  EmploymentStatus            256 non-null    object        \n",
            " 25  Department                  256 non-null    object        \n",
            " 26  ManagerName                 256 non-null    object        \n",
            " 27  ManagerID                   249 non-null    float64       \n",
            " 28  RecruitmentSource           256 non-null    object        \n",
            " 29  PerformanceScore            256 non-null    object        \n",
            " 30  EngagementSurvey            256 non-null    float64       \n",
            " 31  EmpSatisfaction             256 non-null    int64         \n",
            " 32  SpecialProjectsCount        256 non-null    int64         \n",
            " 33  LastPerformanceReview_Date  256 non-null    object        \n",
            " 34  DaysLateLast30              256 non-null    int64         \n",
            " 35  Absences                    256 non-null    int64         \n",
            " 36  Age                         256 non-null    int64         \n",
            " 37  AgeGroup                    256 non-null    category      \n",
            " 38  Under-represented           256 non-null    bool          \n",
            "dtypes: bool(1), category(1), datetime64[ns](1), float64(2), int64(17), object(17)\n",
            "memory usage: 76.6+ KB\n"
          ],
          "name": "stdout"
        }
      ]
    },
    {
      "cell_type": "code",
      "metadata": {
        "colab": {
          "base_uri": "https://localhost:8080/"
        },
        "id": "IAvxShTO3zz3",
        "outputId": "c07e76b9-ed87-4fd2-8c48-71b3c39844e8"
      },
      "source": [
        "df_underrep = df.iloc[(df['AgeGroup'] == 'Under-represented').values]\n",
        "df_underrep.info()"
      ],
      "execution_count": null,
      "outputs": [
        {
          "output_type": "stream",
          "text": [
            "<class 'pandas.core.frame.DataFrame'>\n",
            "Int64Index: 55 entries, 16 to 304\n",
            "Data columns (total 39 columns):\n",
            " #   Column                      Non-Null Count  Dtype         \n",
            "---  ------                      --------------  -----         \n",
            " 0   Employee_Name               55 non-null     object        \n",
            " 1   EmpID                       55 non-null     int64         \n",
            " 2   MarriedID                   55 non-null     int64         \n",
            " 3   MaritalStatusID             55 non-null     int64         \n",
            " 4   GenderID                    55 non-null     int64         \n",
            " 5   EmpStatusID                 55 non-null     int64         \n",
            " 6   DeptID                      55 non-null     int64         \n",
            " 7   PerfScoreID                 55 non-null     int64         \n",
            " 8   FromDiversityJobFairID      55 non-null     int64         \n",
            " 9   Salary                      55 non-null     int64         \n",
            " 10  Termd                       55 non-null     int64         \n",
            " 11  PositionID                  55 non-null     int64         \n",
            " 12  Position                    55 non-null     object        \n",
            " 13  State                       55 non-null     object        \n",
            " 14  Zip                         55 non-null     int64         \n",
            " 15  DOB                         55 non-null     datetime64[ns]\n",
            " 16  Sex                         55 non-null     object        \n",
            " 17  MaritalDesc                 55 non-null     object        \n",
            " 18  CitizenDesc                 55 non-null     object        \n",
            " 19  HispanicLatino              55 non-null     object        \n",
            " 20  RaceDesc                    55 non-null     object        \n",
            " 21  DateofHire                  55 non-null     object        \n",
            " 22  DateofTermination           19 non-null     object        \n",
            " 23  TermReason                  55 non-null     object        \n",
            " 24  EmploymentStatus            55 non-null     object        \n",
            " 25  Department                  55 non-null     object        \n",
            " 26  ManagerName                 55 non-null     object        \n",
            " 27  ManagerID                   54 non-null     float64       \n",
            " 28  RecruitmentSource           55 non-null     object        \n",
            " 29  PerformanceScore            55 non-null     object        \n",
            " 30  EngagementSurvey            55 non-null     float64       \n",
            " 31  EmpSatisfaction             55 non-null     int64         \n",
            " 32  SpecialProjectsCount        55 non-null     int64         \n",
            " 33  LastPerformanceReview_Date  55 non-null     object        \n",
            " 34  DaysLateLast30              55 non-null     int64         \n",
            " 35  Absences                    55 non-null     int64         \n",
            " 36  Age                         55 non-null     int64         \n",
            " 37  AgeGroup                    55 non-null     category      \n",
            " 38  Under-represented           55 non-null     bool          \n",
            "dtypes: bool(1), category(1), datetime64[ns](1), float64(2), int64(17), object(17)\n",
            "memory usage: 16.5+ KB\n"
          ],
          "name": "stdout"
        }
      ]
    },
    {
      "cell_type": "markdown",
      "metadata": {
        "id": "tJiGL_O8jD-x"
      },
      "source": [
        "We have `256` values for **Represented** and `55` values for **Under-represented** age groups. \n",
        "\n",
        "We will run the `ttest_ind()` function to perform 3 separate t-tests for these two age groups. The three features we will test are: **PerfScoreID**, **DaysLateLast30**, and **Absences**. The null hypothesis is that there is no difference between these two samples. A low p-value negates this null hypothesis."
      ]
    },
    {
      "cell_type": "markdown",
      "metadata": {
        "id": "2sgftpWUBEw4"
      },
      "source": [
        "#### PerfScoreID"
      ]
    },
    {
      "cell_type": "code",
      "metadata": {
        "colab": {
          "base_uri": "https://localhost:8080/"
        },
        "id": "LHC3ftCJd9Zp",
        "outputId": "b48a0a94-bc88-46f9-c411-351e6d37aa92"
      },
      "source": [
        "stats.ttest_ind(df_rep['PerfScoreID'], df_underrep['PerfScoreID'])"
      ],
      "execution_count": null,
      "outputs": [
        {
          "output_type": "execute_result",
          "data": {
            "text/plain": [
              "Ttest_indResult(statistic=-0.5659264647121787, pvalue=0.5718545099631571)"
            ]
          },
          "metadata": {
            "tags": []
          },
          "execution_count": 20
        }
      ]
    },
    {
      "cell_type": "markdown",
      "metadata": {
        "id": "gfK94sPxdjHd"
      },
      "source": [
        "We failed to reject the null hypothesis that there is no meaningful difference in the means of `Performance Scores` for the **Represented** and **Under-represented** age groups. There is a difference of `-0.0566` standard deviations between these two means. The difference between the means is not significant at `p=0.572` level."
      ]
    },
    {
      "cell_type": "markdown",
      "metadata": {
        "id": "tgHt60rA_hKR"
      },
      "source": [
        "#### DaysLateLast30\n"
      ]
    },
    {
      "cell_type": "code",
      "metadata": {
        "colab": {
          "base_uri": "https://localhost:8080/"
        },
        "id": "_wgrEctf_674",
        "outputId": "a4a119e9-9723-4cb7-e1fc-0b5809bbee5d"
      },
      "source": [
        "stats.ttest_ind(df_rep['DaysLateLast30'], df_underrep['DaysLateLast30'])"
      ],
      "execution_count": null,
      "outputs": [
        {
          "output_type": "execute_result",
          "data": {
            "text/plain": [
              "Ttest_indResult(statistic=0.20788242429868414, pvalue=0.8354577180907377)"
            ]
          },
          "metadata": {
            "tags": []
          },
          "execution_count": 21
        }
      ]
    },
    {
      "cell_type": "markdown",
      "metadata": {
        "id": "5UY5yfFSeUt3"
      },
      "source": [
        "We failed to reject the null hypothesis that there is no meaningful difference in the means of `days marked late` for the **Represented** and **Under-represented** age groups. There is a difference of `0.208` standard deviations between these two means. The difference between the means is not significant at `p=0.835` level."
      ]
    },
    {
      "cell_type": "markdown",
      "metadata": {
        "id": "DVshpDsMA8WD"
      },
      "source": [
        "#### Absences"
      ]
    },
    {
      "cell_type": "code",
      "metadata": {
        "colab": {
          "base_uri": "https://localhost:8080/"
        },
        "id": "rvs7LiuO_6Qq",
        "outputId": "30a12bac-c219-4b78-af2c-32090cf03296"
      },
      "source": [
        "stats.ttest_ind(df_rep['Absences'], df_underrep['Absences'])"
      ],
      "execution_count": null,
      "outputs": [
        {
          "output_type": "execute_result",
          "data": {
            "text/plain": [
              "Ttest_indResult(statistic=0.5348607042301183, pvalue=0.5931308481106445)"
            ]
          },
          "metadata": {
            "tags": []
          },
          "execution_count": 22
        }
      ]
    },
    {
      "cell_type": "markdown",
      "metadata": {
        "id": "-OOzPGqYe1s6"
      },
      "source": [
        "We failed to reject the null hypothesis that there is no meaningful difference in the means of `days marked absent` for the **Represented** and **Under-represented** age groups. There is a difference of `0.535` standard deviations between these two means. The difference between the means is not significant at `p=0.593` level."
      ]
    },
    {
      "cell_type": "markdown",
      "metadata": {
        "id": "sUtqzwdx6BQA"
      },
      "source": [
        "### Test Results\n",
        "\n",
        "All three t-tests we ran had a large p-value at `p<.05` confidence level, thus failing to reject the three null hypotheses that there is no significant difference between the means.\n",
        "\n",
        "Each t-test compared the means of two age groups and gave a value that indicates how different these two means are. It also gave out a p-value indicating how likely it is that this difference is due to random chance. A low p-value meant that it is unlikely to occur by random chance, meaning that we have a significant result. A high p-value suggests that it is likely that the result that you see is due to random chance—in which case we cannot make meaningful statements about the difference.\n",
        "\n",
        "At large, the results tell us that contrary to many negative implications of age and job performance, there is not a significant difference in work qualities between the two age groups."
      ]
    },
    {
      "cell_type": "markdown",
      "metadata": {
        "id": "C64x02Ka6I4s"
      },
      "source": [
        "## On A Final Note\n",
        "\n",
        "Workplace Age Diversity creates opportunities for the organization to leverage the unique backgrounds and characteristics of all employees to contribute to its success. This notebook features some key findings in regards to Workplace Age Diversity.\n",
        "\n",
        "1. Diversity Job Fair and Employee Referrals are the best available sources of recruitment from a workplace Age Diversity standpoint. \n",
        "\n",
        "2. We should digress from the current social network-centric approach to talent acquisition to a more diversity-centric, age-friendly approach to recruitment.\n",
        "\n",
        "3. There are no statistically significant differences in the means of `PerfScore`, `DaysLateLast30`, and `Absences` between the commonly represented and under-represented age groups, thus invalidating the argument that the under-represented are 'unqualified.'\n",
        "\n",
        "Future studies on mixed-age work teams should focus on demonstrating how age diversity climate within an organization could have the potential to improve performance and lower employee turnover.\n",
        "\n",
        "\n"
      ]
    }
  ]
}
